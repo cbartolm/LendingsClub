{
 "cells": [
  {
   "cell_type": "markdown",
   "metadata": {},
   "source": [
    "## 1. Import libraries and load datasets "
   ]
  },
  {
   "cell_type": "code",
   "execution_count": 1,
   "metadata": {
    "collapsed": true
   },
   "outputs": [],
   "source": [
    "# Data preprocessing \n",
    "import pandas as pd\n",
    "\n",
    "# Efficient vectorial calculus\n",
    "import numpy as np\n",
    "\n",
    "# Timer\n",
    "import time\n",
    "\n",
    "# Visualization libraries\n",
    "import matplotlib.pyplot as plt\n",
    "import seaborn as sns\n",
    "\n",
    "%matplotlib inline"
   ]
  },
  {
   "cell_type": "code",
   "execution_count": 2,
   "metadata": {},
   "outputs": [
    {
     "data": {
      "text/html": [
       "<div>\n",
       "<style>\n",
       "    .dataframe thead tr:only-child th {\n",
       "        text-align: right;\n",
       "    }\n",
       "\n",
       "    .dataframe thead th {\n",
       "        text-align: left;\n",
       "    }\n",
       "\n",
       "    .dataframe tbody tr th {\n",
       "        vertical-align: top;\n",
       "    }\n",
       "</style>\n",
       "<table border=\"1\" class=\"dataframe\">\n",
       "  <thead>\n",
       "    <tr style=\"text-align: right;\">\n",
       "      <th></th>\n",
       "      <th>id</th>\n",
       "      <th>member_id</th>\n",
       "      <th>loan_amnt</th>\n",
       "      <th>funded_amnt</th>\n",
       "      <th>funded_amnt_inv</th>\n",
       "      <th>term</th>\n",
       "      <th>int_rate</th>\n",
       "      <th>installment</th>\n",
       "      <th>grade</th>\n",
       "      <th>sub_grade</th>\n",
       "      <th>...</th>\n",
       "      <th>total_bal_il</th>\n",
       "      <th>il_util</th>\n",
       "      <th>open_rv_12m</th>\n",
       "      <th>open_rv_24m</th>\n",
       "      <th>max_bal_bc</th>\n",
       "      <th>all_util</th>\n",
       "      <th>total_rev_hi_lim</th>\n",
       "      <th>inq_fi</th>\n",
       "      <th>total_cu_tl</th>\n",
       "      <th>inq_last_12m</th>\n",
       "    </tr>\n",
       "  </thead>\n",
       "  <tbody>\n",
       "    <tr>\n",
       "      <th>0</th>\n",
       "      <td>1077501</td>\n",
       "      <td>1296599</td>\n",
       "      <td>5000.0</td>\n",
       "      <td>5000.0</td>\n",
       "      <td>4975.0</td>\n",
       "      <td>36 months</td>\n",
       "      <td>10.65</td>\n",
       "      <td>162.87</td>\n",
       "      <td>B</td>\n",
       "      <td>B2</td>\n",
       "      <td>...</td>\n",
       "      <td>NaN</td>\n",
       "      <td>NaN</td>\n",
       "      <td>NaN</td>\n",
       "      <td>NaN</td>\n",
       "      <td>NaN</td>\n",
       "      <td>NaN</td>\n",
       "      <td>NaN</td>\n",
       "      <td>NaN</td>\n",
       "      <td>NaN</td>\n",
       "      <td>NaN</td>\n",
       "    </tr>\n",
       "    <tr>\n",
       "      <th>1</th>\n",
       "      <td>1077430</td>\n",
       "      <td>1314167</td>\n",
       "      <td>2500.0</td>\n",
       "      <td>2500.0</td>\n",
       "      <td>2500.0</td>\n",
       "      <td>60 months</td>\n",
       "      <td>15.27</td>\n",
       "      <td>59.83</td>\n",
       "      <td>C</td>\n",
       "      <td>C4</td>\n",
       "      <td>...</td>\n",
       "      <td>NaN</td>\n",
       "      <td>NaN</td>\n",
       "      <td>NaN</td>\n",
       "      <td>NaN</td>\n",
       "      <td>NaN</td>\n",
       "      <td>NaN</td>\n",
       "      <td>NaN</td>\n",
       "      <td>NaN</td>\n",
       "      <td>NaN</td>\n",
       "      <td>NaN</td>\n",
       "    </tr>\n",
       "    <tr>\n",
       "      <th>2</th>\n",
       "      <td>1077175</td>\n",
       "      <td>1313524</td>\n",
       "      <td>2400.0</td>\n",
       "      <td>2400.0</td>\n",
       "      <td>2400.0</td>\n",
       "      <td>36 months</td>\n",
       "      <td>15.96</td>\n",
       "      <td>84.33</td>\n",
       "      <td>C</td>\n",
       "      <td>C5</td>\n",
       "      <td>...</td>\n",
       "      <td>NaN</td>\n",
       "      <td>NaN</td>\n",
       "      <td>NaN</td>\n",
       "      <td>NaN</td>\n",
       "      <td>NaN</td>\n",
       "      <td>NaN</td>\n",
       "      <td>NaN</td>\n",
       "      <td>NaN</td>\n",
       "      <td>NaN</td>\n",
       "      <td>NaN</td>\n",
       "    </tr>\n",
       "    <tr>\n",
       "      <th>3</th>\n",
       "      <td>1076863</td>\n",
       "      <td>1277178</td>\n",
       "      <td>10000.0</td>\n",
       "      <td>10000.0</td>\n",
       "      <td>10000.0</td>\n",
       "      <td>36 months</td>\n",
       "      <td>13.49</td>\n",
       "      <td>339.31</td>\n",
       "      <td>C</td>\n",
       "      <td>C1</td>\n",
       "      <td>...</td>\n",
       "      <td>NaN</td>\n",
       "      <td>NaN</td>\n",
       "      <td>NaN</td>\n",
       "      <td>NaN</td>\n",
       "      <td>NaN</td>\n",
       "      <td>NaN</td>\n",
       "      <td>NaN</td>\n",
       "      <td>NaN</td>\n",
       "      <td>NaN</td>\n",
       "      <td>NaN</td>\n",
       "    </tr>\n",
       "    <tr>\n",
       "      <th>4</th>\n",
       "      <td>1075358</td>\n",
       "      <td>1311748</td>\n",
       "      <td>3000.0</td>\n",
       "      <td>3000.0</td>\n",
       "      <td>3000.0</td>\n",
       "      <td>60 months</td>\n",
       "      <td>12.69</td>\n",
       "      <td>67.79</td>\n",
       "      <td>B</td>\n",
       "      <td>B5</td>\n",
       "      <td>...</td>\n",
       "      <td>NaN</td>\n",
       "      <td>NaN</td>\n",
       "      <td>NaN</td>\n",
       "      <td>NaN</td>\n",
       "      <td>NaN</td>\n",
       "      <td>NaN</td>\n",
       "      <td>NaN</td>\n",
       "      <td>NaN</td>\n",
       "      <td>NaN</td>\n",
       "      <td>NaN</td>\n",
       "    </tr>\n",
       "  </tbody>\n",
       "</table>\n",
       "<p>5 rows × 74 columns</p>\n",
       "</div>"
      ],
      "text/plain": [
       "        id  member_id  loan_amnt  funded_amnt  funded_amnt_inv        term  \\\n",
       "0  1077501    1296599     5000.0       5000.0           4975.0   36 months   \n",
       "1  1077430    1314167     2500.0       2500.0           2500.0   60 months   \n",
       "2  1077175    1313524     2400.0       2400.0           2400.0   36 months   \n",
       "3  1076863    1277178    10000.0      10000.0          10000.0   36 months   \n",
       "4  1075358    1311748     3000.0       3000.0           3000.0   60 months   \n",
       "\n",
       "   int_rate  installment grade sub_grade     ...      total_bal_il il_util  \\\n",
       "0     10.65       162.87     B        B2     ...               NaN     NaN   \n",
       "1     15.27        59.83     C        C4     ...               NaN     NaN   \n",
       "2     15.96        84.33     C        C5     ...               NaN     NaN   \n",
       "3     13.49       339.31     C        C1     ...               NaN     NaN   \n",
       "4     12.69        67.79     B        B5     ...               NaN     NaN   \n",
       "\n",
       "  open_rv_12m  open_rv_24m max_bal_bc all_util total_rev_hi_lim inq_fi  \\\n",
       "0         NaN          NaN        NaN      NaN              NaN    NaN   \n",
       "1         NaN          NaN        NaN      NaN              NaN    NaN   \n",
       "2         NaN          NaN        NaN      NaN              NaN    NaN   \n",
       "3         NaN          NaN        NaN      NaN              NaN    NaN   \n",
       "4         NaN          NaN        NaN      NaN              NaN    NaN   \n",
       "\n",
       "  total_cu_tl inq_last_12m  \n",
       "0         NaN          NaN  \n",
       "1         NaN          NaN  \n",
       "2         NaN          NaN  \n",
       "3         NaN          NaN  \n",
       "4         NaN          NaN  \n",
       "\n",
       "[5 rows x 74 columns]"
      ]
     },
     "execution_count": 2,
     "metadata": {},
     "output_type": "execute_result"
    }
   ],
   "source": [
    "# Load dataset in a Pandas DataFrame object from a .csv file\n",
    "df = pd.read_csv('../data/loan.csv', low_memory=False)\n",
    "\n",
    "# Show first rows\n",
    "df.head()"
   ]
  },
  {
   "cell_type": "code",
   "execution_count": 3,
   "metadata": {},
   "outputs": [
    {
     "data": {
      "text/html": [
       "<div>\n",
       "<style>\n",
       "    .dataframe thead tr:only-child th {\n",
       "        text-align: right;\n",
       "    }\n",
       "\n",
       "    .dataframe thead th {\n",
       "        text-align: left;\n",
       "    }\n",
       "\n",
       "    .dataframe tbody tr th {\n",
       "        vertical-align: top;\n",
       "    }\n",
       "</style>\n",
       "<table border=\"1\" class=\"dataframe\">\n",
       "  <thead>\n",
       "    <tr style=\"text-align: right;\">\n",
       "      <th></th>\n",
       "      <th>LoanStatNew</th>\n",
       "      <th>Description</th>\n",
       "    </tr>\n",
       "  </thead>\n",
       "  <tbody>\n",
       "    <tr>\n",
       "      <th>32</th>\n",
       "      <td>loan_status</td>\n",
       "      <td>Current status of the loan</td>\n",
       "    </tr>\n",
       "  </tbody>\n",
       "</table>\n",
       "</div>"
      ],
      "text/plain": [
       "    LoanStatNew                 Description\n",
       "32  loan_status  Current status of the loan"
      ]
     },
     "execution_count": 3,
     "metadata": {},
     "output_type": "execute_result"
    }
   ],
   "source": [
    "# Load .xlxs file to have a complete description of the meaning of the different columns\n",
    "df_xlxs = pd.read_excel('../data/LCDataDictionary.xlsx').dropna()\n",
    "df_xlxs[df_xlxs.LoanStatNew == \"loan_status\"]"
   ]
  },
  {
   "cell_type": "markdown",
   "metadata": {},
   "source": [
    "## 2. Exploratory Data Analysis (Section 1) "
   ]
  },
  {
   "cell_type": "markdown",
   "metadata": {},
   "source": [
    "### a) Dataset overview "
   ]
  },
  {
   "cell_type": "code",
   "execution_count": 4,
   "metadata": {},
   "outputs": [
    {
     "name": "stdout",
     "output_type": "stream",
     "text": [
      "Shape of the dataset:  (887379, 74)  \n",
      "\n",
      "Columns of the dataset:  Index(['id', 'member_id', 'loan_amnt', 'funded_amnt', 'funded_amnt_inv',\n",
      "       'term', 'int_rate', 'installment', 'grade', 'sub_grade', 'emp_title',\n",
      "       'emp_length', 'home_ownership', 'annual_inc', 'verification_status',\n",
      "       'issue_d', 'loan_status', 'pymnt_plan', 'url', 'desc', 'purpose',\n",
      "       'title', 'zip_code', 'addr_state', 'dti', 'delinq_2yrs',\n",
      "       'earliest_cr_line', 'inq_last_6mths', 'mths_since_last_delinq',\n",
      "       'mths_since_last_record', 'open_acc', 'pub_rec', 'revol_bal',\n",
      "       'revol_util', 'total_acc', 'initial_list_status', 'out_prncp',\n",
      "       'out_prncp_inv', 'total_pymnt', 'total_pymnt_inv', 'total_rec_prncp',\n",
      "       'total_rec_int', 'total_rec_late_fee', 'recoveries',\n",
      "       'collection_recovery_fee', 'last_pymnt_d', 'last_pymnt_amnt',\n",
      "       'next_pymnt_d', 'last_credit_pull_d', 'collections_12_mths_ex_med',\n",
      "       'mths_since_last_major_derog', 'policy_code', 'application_type',\n",
      "       'annual_inc_joint', 'dti_joint', 'verification_status_joint',\n",
      "       'acc_now_delinq', 'tot_coll_amt', 'tot_cur_bal', 'open_acc_6m',\n",
      "       'open_il_6m', 'open_il_12m', 'open_il_24m', 'mths_since_rcnt_il',\n",
      "       'total_bal_il', 'il_util', 'open_rv_12m', 'open_rv_24m', 'max_bal_bc',\n",
      "       'all_util', 'total_rev_hi_lim', 'inq_fi', 'total_cu_tl',\n",
      "       'inq_last_12m'],\n",
      "      dtype='object')  \n",
      "\n",
      "Number columns:  74\n"
     ]
    }
   ],
   "source": [
    "print(\"Shape of the dataset: \", df.shape, \" \\n\")\n",
    "print(\"Columns of the dataset: \", df.columns, \" \\n\")\n",
    "print(\"Number columns: \", len(df.columns))"
   ]
  },
  {
   "cell_type": "code",
   "execution_count": 5,
   "metadata": {
    "collapsed": true
   },
   "outputs": [],
   "source": [
    "# Data for the take-home assignment\n",
    "df_def = df[[\"loan_amnt\", \"funded_amnt\", \"term\", \"int_rate\", \"grade\", \"annual_inc\", \"issue_d\",\n",
    "\"dti\", \"revol_bal\", \"total_pymnt\", \"loan_status\"]]"
   ]
  },
  {
   "cell_type": "code",
   "execution_count": 6,
   "metadata": {},
   "outputs": [
    {
     "data": {
      "text/html": [
       "<div>\n",
       "<style>\n",
       "    .dataframe thead tr:only-child th {\n",
       "        text-align: right;\n",
       "    }\n",
       "\n",
       "    .dataframe thead th {\n",
       "        text-align: left;\n",
       "    }\n",
       "\n",
       "    .dataframe tbody tr th {\n",
       "        vertical-align: top;\n",
       "    }\n",
       "</style>\n",
       "<table border=\"1\" class=\"dataframe\">\n",
       "  <thead>\n",
       "    <tr style=\"text-align: right;\">\n",
       "      <th></th>\n",
       "      <th>loan_amnt</th>\n",
       "      <th>funded_amnt</th>\n",
       "      <th>term</th>\n",
       "      <th>int_rate</th>\n",
       "      <th>grade</th>\n",
       "      <th>annual_inc</th>\n",
       "      <th>issue_d</th>\n",
       "      <th>dti</th>\n",
       "      <th>revol_bal</th>\n",
       "      <th>total_pymnt</th>\n",
       "      <th>loan_status</th>\n",
       "    </tr>\n",
       "  </thead>\n",
       "  <tbody>\n",
       "    <tr>\n",
       "      <th>0</th>\n",
       "      <td>5000.0</td>\n",
       "      <td>5000.0</td>\n",
       "      <td>36 months</td>\n",
       "      <td>10.65</td>\n",
       "      <td>B</td>\n",
       "      <td>24000.0</td>\n",
       "      <td>Dec-2011</td>\n",
       "      <td>27.65</td>\n",
       "      <td>13648.0</td>\n",
       "      <td>5861.071414</td>\n",
       "      <td>Fully Paid</td>\n",
       "    </tr>\n",
       "    <tr>\n",
       "      <th>1</th>\n",
       "      <td>2500.0</td>\n",
       "      <td>2500.0</td>\n",
       "      <td>60 months</td>\n",
       "      <td>15.27</td>\n",
       "      <td>C</td>\n",
       "      <td>30000.0</td>\n",
       "      <td>Dec-2011</td>\n",
       "      <td>1.00</td>\n",
       "      <td>1687.0</td>\n",
       "      <td>1008.710000</td>\n",
       "      <td>Charged Off</td>\n",
       "    </tr>\n",
       "    <tr>\n",
       "      <th>2</th>\n",
       "      <td>2400.0</td>\n",
       "      <td>2400.0</td>\n",
       "      <td>36 months</td>\n",
       "      <td>15.96</td>\n",
       "      <td>C</td>\n",
       "      <td>12252.0</td>\n",
       "      <td>Dec-2011</td>\n",
       "      <td>8.72</td>\n",
       "      <td>2956.0</td>\n",
       "      <td>3003.653644</td>\n",
       "      <td>Fully Paid</td>\n",
       "    </tr>\n",
       "    <tr>\n",
       "      <th>3</th>\n",
       "      <td>10000.0</td>\n",
       "      <td>10000.0</td>\n",
       "      <td>36 months</td>\n",
       "      <td>13.49</td>\n",
       "      <td>C</td>\n",
       "      <td>49200.0</td>\n",
       "      <td>Dec-2011</td>\n",
       "      <td>20.00</td>\n",
       "      <td>5598.0</td>\n",
       "      <td>12226.302212</td>\n",
       "      <td>Fully Paid</td>\n",
       "    </tr>\n",
       "    <tr>\n",
       "      <th>4</th>\n",
       "      <td>3000.0</td>\n",
       "      <td>3000.0</td>\n",
       "      <td>60 months</td>\n",
       "      <td>12.69</td>\n",
       "      <td>B</td>\n",
       "      <td>80000.0</td>\n",
       "      <td>Dec-2011</td>\n",
       "      <td>17.94</td>\n",
       "      <td>27783.0</td>\n",
       "      <td>3242.170000</td>\n",
       "      <td>Current</td>\n",
       "    </tr>\n",
       "  </tbody>\n",
       "</table>\n",
       "</div>"
      ],
      "text/plain": [
       "   loan_amnt  funded_amnt        term  int_rate grade  annual_inc   issue_d  \\\n",
       "0     5000.0       5000.0   36 months     10.65     B     24000.0  Dec-2011   \n",
       "1     2500.0       2500.0   60 months     15.27     C     30000.0  Dec-2011   \n",
       "2     2400.0       2400.0   36 months     15.96     C     12252.0  Dec-2011   \n",
       "3    10000.0      10000.0   36 months     13.49     C     49200.0  Dec-2011   \n",
       "4     3000.0       3000.0   60 months     12.69     B     80000.0  Dec-2011   \n",
       "\n",
       "     dti  revol_bal   total_pymnt  loan_status  \n",
       "0  27.65    13648.0   5861.071414   Fully Paid  \n",
       "1   1.00     1687.0   1008.710000  Charged Off  \n",
       "2   8.72     2956.0   3003.653644   Fully Paid  \n",
       "3  20.00     5598.0  12226.302212   Fully Paid  \n",
       "4  17.94    27783.0   3242.170000      Current  "
      ]
     },
     "execution_count": 6,
     "metadata": {},
     "output_type": "execute_result"
    }
   ],
   "source": [
    "df_def.head()\n",
    "# Response Variable: Categorical feature loan_status\n",
    "# Covariates: Rest of columns"
   ]
  },
  {
   "cell_type": "markdown",
   "metadata": {},
   "source": [
    "### b) Null values"
   ]
  },
  {
   "cell_type": "code",
   "execution_count": 7,
   "metadata": {},
   "outputs": [
    {
     "name": "stdout",
     "output_type": "stream",
     "text": [
      "loan_amnt      0\n",
      "funded_amnt    0\n",
      "term           0\n",
      "int_rate       0\n",
      "grade          0\n",
      "annual_inc     4\n",
      "issue_d        0\n",
      "dti            0\n",
      "revol_bal      0\n",
      "total_pymnt    0\n",
      "loan_status    0\n",
      "dtype: int64\n"
     ]
    }
   ],
   "source": [
    "# Count NaN values per column\n",
    "print(df_def.isnull().sum())"
   ]
  },
  {
   "cell_type": "markdown",
   "metadata": {},
   "source": [
    "The number of training examples with NaN values is **very small** (with respe as can be seen from the above Pandas Series. Therefore, we are going just to drop the rows that contain NaN values in the annual_inc column."
   ]
  },
  {
   "cell_type": "code",
   "execution_count": 8,
   "metadata": {},
   "outputs": [
    {
     "data": {
      "text/plain": [
       "[42449, 42450, 42480, 42533]"
      ]
     },
     "execution_count": 8,
     "metadata": {},
     "output_type": "execute_result"
    }
   ],
   "source": [
    "# Show rows with NaN Values in column \"annual_inc\"\n",
    "list(df_def[df_def[\"annual_inc\"].isnull()].index)"
   ]
  },
  {
   "cell_type": "code",
   "execution_count": 9,
   "metadata": {
    "collapsed": true
   },
   "outputs": [],
   "source": [
    "# Overwrite dataframe\n",
    "df_def=df_def.dropna()"
   ]
  },
  {
   "cell_type": "code",
   "execution_count": 10,
   "metadata": {},
   "outputs": [
    {
     "name": "stdout",
     "output_type": "stream",
     "text": [
      "loan_amnt      0\n",
      "funded_amnt    0\n",
      "term           0\n",
      "int_rate       0\n",
      "grade          0\n",
      "annual_inc     0\n",
      "issue_d        0\n",
      "dti            0\n",
      "revol_bal      0\n",
      "total_pymnt    0\n",
      "loan_status    0\n",
      "dtype: int64\n"
     ]
    }
   ],
   "source": [
    "# Sanity Check\n",
    "print(df_def.isnull().sum())"
   ]
  },
  {
   "cell_type": "markdown",
   "metadata": {},
   "source": [
    "### c) Distribution data"
   ]
  },
  {
   "cell_type": "markdown",
   "metadata": {},
   "source": [
    "##### Loan amount"
   ]
  },
  {
   "cell_type": "code",
   "execution_count": 11,
   "metadata": {},
   "outputs": [
    {
     "data": {
      "image/png": "[encoded data removed]",
      "text/plain": [
       "<matplotlib.figure.Figure at 0x11128e940>"
      ]
     },
     "metadata": {},
     "output_type": "display_data"
    }
   ],
   "source": [
    "plt.figure(figsize=(13, 7))\n",
    "\n",
    "g = sns.distplot(df_def[\"loan_amnt\"])\n",
    "g.set_xlabel(\"Loan amount\", fontsize=11)\n",
    "g.set_ylabel(\"Probability/Frequency\", fontsize=11)\n",
    "g.set_title(\"Frequency Distribution of loan amounts\", fontsize=20)\n",
    "\n",
    "plt.show()"
   ]
  },
  {
   "cell_type": "markdown",
   "metadata": {},
   "source": [
    "##### Loan Status "
   ]
  },
  {
   "cell_type": "code",
   "execution_count": 12,
   "metadata": {},
   "outputs": [
    {
     "data": {
      "image/png": "[encoded data removed]",
      "text/plain": [
       "<matplotlib.figure.Figure at 0x111e1a1d0>"
      ]
     },
     "metadata": {},
     "output_type": "display_data"
    }
   ],
   "source": [
    "plt.figure(figsize = (14,6))\n",
    "\n",
    "g = sns.countplot(x=\"loan_status\", data=df_def)\n",
    "g.set_xticklabels(g.get_xticklabels(),rotation=90)\n",
    "g.set_xlabel(\"Status of the loan\", fontsize=13)\n",
    "g.set_ylabel(\"Count\", fontsize=15)\n",
    "g.set_title(\"Count in Loan Status\", fontsize=21)\n",
    "\n",
    "plt.show()"
   ]
  },
  {
   "cell_type": "markdown",
   "metadata": {},
   "source": [
    "### c) Summary statistics"
   ]
  },
  {
   "cell_type": "code",
   "execution_count": 13,
   "metadata": {},
   "outputs": [
    {
     "data": {
      "text/html": [
       "<div>\n",
       "<style>\n",
       "    .dataframe thead tr:only-child th {\n",
       "        text-align: right;\n",
       "    }\n",
       "\n",
       "    .dataframe thead th {\n",
       "        text-align: left;\n",
       "    }\n",
       "\n",
       "    .dataframe tbody tr th {\n",
       "        vertical-align: top;\n",
       "    }\n",
       "</style>\n",
       "<table border=\"1\" class=\"dataframe\">\n",
       "  <thead>\n",
       "    <tr style=\"text-align: right;\">\n",
       "      <th></th>\n",
       "      <th>loan_amnt</th>\n",
       "      <th>funded_amnt</th>\n",
       "      <th>int_rate</th>\n",
       "      <th>annual_inc</th>\n",
       "      <th>dti</th>\n",
       "      <th>revol_bal</th>\n",
       "      <th>total_pymnt</th>\n",
       "    </tr>\n",
       "  </thead>\n",
       "  <tbody>\n",
       "    <tr>\n",
       "      <th>count</th>\n",
       "      <td>887375.000000</td>\n",
       "      <td>887375.000000</td>\n",
       "      <td>887375.000000</td>\n",
       "      <td>8.873750e+05</td>\n",
       "      <td>887375.000000</td>\n",
       "      <td>8.873750e+05</td>\n",
       "      <td>887375.000000</td>\n",
       "    </tr>\n",
       "    <tr>\n",
       "      <th>mean</th>\n",
       "      <td>14755.302719</td>\n",
       "      <td>14741.915678</td>\n",
       "      <td>13.246764</td>\n",
       "      <td>7.502759e+04</td>\n",
       "      <td>18.157113</td>\n",
       "      <td>1.692086e+04</td>\n",
       "      <td>7558.828791</td>\n",
       "    </tr>\n",
       "    <tr>\n",
       "      <th>std</th>\n",
       "      <td>8435.455353</td>\n",
       "      <td>8429.897443</td>\n",
       "      <td>4.381862</td>\n",
       "      <td>6.469830e+04</td>\n",
       "      <td>17.190629</td>\n",
       "      <td>2.242681e+04</td>\n",
       "      <td>7871.260790</td>\n",
       "    </tr>\n",
       "    <tr>\n",
       "      <th>min</th>\n",
       "      <td>500.000000</td>\n",
       "      <td>500.000000</td>\n",
       "      <td>5.320000</td>\n",
       "      <td>0.000000e+00</td>\n",
       "      <td>0.000000</td>\n",
       "      <td>0.000000e+00</td>\n",
       "      <td>0.000000</td>\n",
       "    </tr>\n",
       "    <tr>\n",
       "      <th>25%</th>\n",
       "      <td>8000.000000</td>\n",
       "      <td>8000.000000</td>\n",
       "      <td>9.990000</td>\n",
       "      <td>4.500000e+04</td>\n",
       "      <td>11.910000</td>\n",
       "      <td>6.443500e+03</td>\n",
       "      <td>1914.590000</td>\n",
       "    </tr>\n",
       "    <tr>\n",
       "      <th>50%</th>\n",
       "      <td>13000.000000</td>\n",
       "      <td>13000.000000</td>\n",
       "      <td>12.990000</td>\n",
       "      <td>6.500000e+04</td>\n",
       "      <td>17.650000</td>\n",
       "      <td>1.187500e+04</td>\n",
       "      <td>4894.950000</td>\n",
       "    </tr>\n",
       "    <tr>\n",
       "      <th>75%</th>\n",
       "      <td>20000.000000</td>\n",
       "      <td>20000.000000</td>\n",
       "      <td>16.200000</td>\n",
       "      <td>9.000000e+04</td>\n",
       "      <td>23.950000</td>\n",
       "      <td>2.082900e+04</td>\n",
       "      <td>10616.844231</td>\n",
       "    </tr>\n",
       "    <tr>\n",
       "      <th>max</th>\n",
       "      <td>35000.000000</td>\n",
       "      <td>35000.000000</td>\n",
       "      <td>28.990000</td>\n",
       "      <td>9.500000e+06</td>\n",
       "      <td>9999.000000</td>\n",
       "      <td>2.904836e+06</td>\n",
       "      <td>57777.579870</td>\n",
       "    </tr>\n",
       "  </tbody>\n",
       "</table>\n",
       "</div>"
      ],
      "text/plain": [
       "           loan_amnt    funded_amnt       int_rate    annual_inc  \\\n",
       "count  887375.000000  887375.000000  887375.000000  8.873750e+05   \n",
       "mean    14755.302719   14741.915678      13.246764  7.502759e+04   \n",
       "std      8435.455353    8429.897443       4.381862  6.469830e+04   \n",
       "min       500.000000     500.000000       5.320000  0.000000e+00   \n",
       "25%      8000.000000    8000.000000       9.990000  4.500000e+04   \n",
       "50%     13000.000000   13000.000000      12.990000  6.500000e+04   \n",
       "75%     20000.000000   20000.000000      16.200000  9.000000e+04   \n",
       "max     35000.000000   35000.000000      28.990000  9.500000e+06   \n",
       "\n",
       "                 dti     revol_bal    total_pymnt  \n",
       "count  887375.000000  8.873750e+05  887375.000000  \n",
       "mean       18.157113  1.692086e+04    7558.828791  \n",
       "std        17.190629  2.242681e+04    7871.260790  \n",
       "min         0.000000  0.000000e+00       0.000000  \n",
       "25%        11.910000  6.443500e+03    1914.590000  \n",
       "50%        17.650000  1.187500e+04    4894.950000  \n",
       "75%        23.950000  2.082900e+04   10616.844231  \n",
       "max      9999.000000  2.904836e+06   57777.579870  "
      ]
     },
     "execution_count": 13,
     "metadata": {},
     "output_type": "execute_result"
    }
   ],
   "source": [
    "df_def.describe()"
   ]
  },
  {
   "cell_type": "markdown",
   "metadata": {},
   "source": [
    "## 3. Business analysis (Section 2) "
   ]
  },
  {
   "cell_type": "markdown",
   "metadata": {},
   "source": [
    "#### Question a) "
   ]
  },
  {
   "cell_type": "markdown",
   "metadata": {},
   "source": [
    "For this section, we are only analyzing 36 month term loans.  "
   ]
  },
  {
   "cell_type": "code",
   "execution_count": 14,
   "metadata": {},
   "outputs": [
    {
     "data": {
      "text/plain": [
       "' 36 months'"
      ]
     },
     "execution_count": 14,
     "metadata": {},
     "output_type": "execute_result"
    }
   ],
   "source": [
    "# See format \"term\" column\n",
    "df_def[\"term\"].iloc[0]"
   ]
  },
  {
   "cell_type": "code",
   "execution_count": 15,
   "metadata": {
    "collapsed": true
   },
   "outputs": [],
   "source": [
    "# Select 36 month term loans\n",
    "df_def_36m = df_def[df_def.term == \" 36 months\"]"
   ]
  },
  {
   "cell_type": "code",
   "execution_count": 16,
   "metadata": {},
   "outputs": [
    {
     "data": {
      "text/html": [
       "<div>\n",
       "<style>\n",
       "    .dataframe thead tr:only-child th {\n",
       "        text-align: right;\n",
       "    }\n",
       "\n",
       "    .dataframe thead th {\n",
       "        text-align: left;\n",
       "    }\n",
       "\n",
       "    .dataframe tbody tr th {\n",
       "        vertical-align: top;\n",
       "    }\n",
       "</style>\n",
       "<table border=\"1\" class=\"dataframe\">\n",
       "  <thead>\n",
       "    <tr style=\"text-align: right;\">\n",
       "      <th></th>\n",
       "      <th>loan_amnt</th>\n",
       "      <th>funded_amnt</th>\n",
       "      <th>term</th>\n",
       "      <th>int_rate</th>\n",
       "      <th>grade</th>\n",
       "      <th>annual_inc</th>\n",
       "      <th>issue_d</th>\n",
       "      <th>dti</th>\n",
       "      <th>revol_bal</th>\n",
       "      <th>total_pymnt</th>\n",
       "      <th>loan_status</th>\n",
       "    </tr>\n",
       "  </thead>\n",
       "  <tbody>\n",
       "    <tr>\n",
       "      <th>0</th>\n",
       "      <td>5000.0</td>\n",
       "      <td>5000.0</td>\n",
       "      <td>36 months</td>\n",
       "      <td>10.65</td>\n",
       "      <td>B</td>\n",
       "      <td>24000.0</td>\n",
       "      <td>Dec-2011</td>\n",
       "      <td>27.65</td>\n",
       "      <td>13648.0</td>\n",
       "      <td>5861.071414</td>\n",
       "      <td>Fully Paid</td>\n",
       "    </tr>\n",
       "    <tr>\n",
       "      <th>2</th>\n",
       "      <td>2400.0</td>\n",
       "      <td>2400.0</td>\n",
       "      <td>36 months</td>\n",
       "      <td>15.96</td>\n",
       "      <td>C</td>\n",
       "      <td>12252.0</td>\n",
       "      <td>Dec-2011</td>\n",
       "      <td>8.72</td>\n",
       "      <td>2956.0</td>\n",
       "      <td>3003.653644</td>\n",
       "      <td>Fully Paid</td>\n",
       "    </tr>\n",
       "    <tr>\n",
       "      <th>3</th>\n",
       "      <td>10000.0</td>\n",
       "      <td>10000.0</td>\n",
       "      <td>36 months</td>\n",
       "      <td>13.49</td>\n",
       "      <td>C</td>\n",
       "      <td>49200.0</td>\n",
       "      <td>Dec-2011</td>\n",
       "      <td>20.00</td>\n",
       "      <td>5598.0</td>\n",
       "      <td>12226.302212</td>\n",
       "      <td>Fully Paid</td>\n",
       "    </tr>\n",
       "    <tr>\n",
       "      <th>5</th>\n",
       "      <td>5000.0</td>\n",
       "      <td>5000.0</td>\n",
       "      <td>36 months</td>\n",
       "      <td>7.90</td>\n",
       "      <td>A</td>\n",
       "      <td>36000.0</td>\n",
       "      <td>Dec-2011</td>\n",
       "      <td>11.20</td>\n",
       "      <td>7963.0</td>\n",
       "      <td>5631.377753</td>\n",
       "      <td>Fully Paid</td>\n",
       "    </tr>\n",
       "    <tr>\n",
       "      <th>7</th>\n",
       "      <td>3000.0</td>\n",
       "      <td>3000.0</td>\n",
       "      <td>36 months</td>\n",
       "      <td>18.64</td>\n",
       "      <td>E</td>\n",
       "      <td>48000.0</td>\n",
       "      <td>Dec-2011</td>\n",
       "      <td>5.35</td>\n",
       "      <td>8221.0</td>\n",
       "      <td>3938.144334</td>\n",
       "      <td>Fully Paid</td>\n",
       "    </tr>\n",
       "  </tbody>\n",
       "</table>\n",
       "</div>"
      ],
      "text/plain": [
       "   loan_amnt  funded_amnt        term  int_rate grade  annual_inc   issue_d  \\\n",
       "0     5000.0       5000.0   36 months     10.65     B     24000.0  Dec-2011   \n",
       "2     2400.0       2400.0   36 months     15.96     C     12252.0  Dec-2011   \n",
       "3    10000.0      10000.0   36 months     13.49     C     49200.0  Dec-2011   \n",
       "5     5000.0       5000.0   36 months      7.90     A     36000.0  Dec-2011   \n",
       "7     3000.0       3000.0   36 months     18.64     E     48000.0  Dec-2011   \n",
       "\n",
       "     dti  revol_bal   total_pymnt loan_status  \n",
       "0  27.65    13648.0   5861.071414  Fully Paid  \n",
       "2   8.72     2956.0   3003.653644  Fully Paid  \n",
       "3  20.00     5598.0  12226.302212  Fully Paid  \n",
       "5  11.20     7963.0   5631.377753  Fully Paid  \n",
       "7   5.35     8221.0   3938.144334  Fully Paid  "
      ]
     },
     "execution_count": 16,
     "metadata": {},
     "output_type": "execute_result"
    }
   ],
   "source": [
    "df_def_36m.head()"
   ]
  },
  {
   "cell_type": "code",
   "execution_count": 17,
   "metadata": {},
   "outputs": [
    {
     "data": {
      "text/plain": [
       "(621121, 11)"
      ]
     },
     "execution_count": 17,
     "metadata": {},
     "output_type": "execute_result"
    }
   ],
   "source": [
    "df_def_36m.shape"
   ]
  },
  {
   "cell_type": "code",
   "execution_count": 18,
   "metadata": {},
   "outputs": [
    {
     "name": "stderr",
     "output_type": "stream",
     "text": [
      "/Users/cbartolm/anaconda/envs/cs230/lib/python3.5/site-packages/ipykernel_launcher.py:2: SettingWithCopyWarning: \n",
      "A value is trying to be set on a copy of a slice from a DataFrame\n",
      "\n",
      "See the caveats in the documentation: http://pandas.pydata.org/pandas-docs/stable/indexing.html#indexing-view-versus-copy\n",
      "  \n",
      "/Users/cbartolm/anaconda/envs/cs230/lib/python3.5/site-packages/pandas/core/generic.py:5233: SettingWithCopyWarning: \n",
      "A value is trying to be set on a copy of a slice from a DataFrame\n",
      "\n",
      "See the caveats in the documentation: http://pandas.pydata.org/pandas-docs/stable/indexing.html#indexing-view-versus-copy\n",
      "  self._update_inplace(new_data)\n",
      "/Users/cbartolm/anaconda/envs/cs230/lib/python3.5/site-packages/IPython/core/interactiveshell.py:2862: SettingWithCopyWarning: \n",
      "A value is trying to be set on a copy of a slice from a DataFrame\n",
      "\n",
      "See the caveats in the documentation: http://pandas.pydata.org/pandas-docs/stable/indexing.html#indexing-view-versus-copy\n",
      "  exec(code_obj, self.user_global_ns, self.user_ns)\n",
      "/Users/cbartolm/anaconda/envs/cs230/lib/python3.5/site-packages/ipykernel_launcher.py:3: SettingWithCopyWarning: \n",
      "A value is trying to be set on a copy of a slice from a DataFrame\n",
      "\n",
      "See the caveats in the documentation: http://pandas.pydata.org/pandas-docs/stable/indexing.html#indexing-view-versus-copy\n",
      "  This is separate from the ipykernel package so we can avoid doing imports until\n"
     ]
    }
   ],
   "source": [
    "# Simplify loan_status labels to avoid confusion\n",
    "df_def_36m.loan_status[df_def_36m.loan_status==\"Does not meet the credit policy. Status:Charged Off\"] = \"Charged Off\"\n",
    "df_def_36m.loan_status[df_def_36m.loan_status==\"Does not meet the credit policy. Status:Fully Paid\"] = \"Fully Paid\""
   ]
  },
  {
   "cell_type": "code",
   "execution_count": 19,
   "metadata": {},
   "outputs": [
    {
     "data": {
      "text/html": [
       "<div>\n",
       "<style>\n",
       "    .dataframe thead tr:only-child th {\n",
       "        text-align: right;\n",
       "    }\n",
       "\n",
       "    .dataframe thead th {\n",
       "        text-align: left;\n",
       "    }\n",
       "\n",
       "    .dataframe tbody tr th {\n",
       "        vertical-align: top;\n",
       "    }\n",
       "</style>\n",
       "<table border=\"1\" class=\"dataframe\">\n",
       "  <thead>\n",
       "    <tr style=\"text-align: right;\">\n",
       "      <th></th>\n",
       "      <th>loan_amnt</th>\n",
       "      <th>funded_amnt</th>\n",
       "      <th>term</th>\n",
       "      <th>int_rate</th>\n",
       "      <th>grade</th>\n",
       "      <th>annual_inc</th>\n",
       "      <th>issue_d</th>\n",
       "      <th>dti</th>\n",
       "      <th>revol_bal</th>\n",
       "      <th>total_pymnt</th>\n",
       "    </tr>\n",
       "    <tr>\n",
       "      <th>loan_status</th>\n",
       "      <th></th>\n",
       "      <th></th>\n",
       "      <th></th>\n",
       "      <th></th>\n",
       "      <th></th>\n",
       "      <th></th>\n",
       "      <th></th>\n",
       "      <th></th>\n",
       "      <th></th>\n",
       "      <th></th>\n",
       "    </tr>\n",
       "  </thead>\n",
       "  <tbody>\n",
       "    <tr>\n",
       "      <th>Charged Off</th>\n",
       "      <td>29732</td>\n",
       "      <td>29732</td>\n",
       "      <td>29732</td>\n",
       "      <td>29732</td>\n",
       "      <td>29732</td>\n",
       "      <td>29732</td>\n",
       "      <td>29732</td>\n",
       "      <td>29732</td>\n",
       "      <td>29732</td>\n",
       "      <td>29732</td>\n",
       "    </tr>\n",
       "    <tr>\n",
       "      <th>Current</th>\n",
       "      <td>402848</td>\n",
       "      <td>402848</td>\n",
       "      <td>402848</td>\n",
       "      <td>402848</td>\n",
       "      <td>402848</td>\n",
       "      <td>402848</td>\n",
       "      <td>402848</td>\n",
       "      <td>402848</td>\n",
       "      <td>402848</td>\n",
       "      <td>402848</td>\n",
       "    </tr>\n",
       "    <tr>\n",
       "      <th>Default</th>\n",
       "      <td>715</td>\n",
       "      <td>715</td>\n",
       "      <td>715</td>\n",
       "      <td>715</td>\n",
       "      <td>715</td>\n",
       "      <td>715</td>\n",
       "      <td>715</td>\n",
       "      <td>715</td>\n",
       "      <td>715</td>\n",
       "      <td>715</td>\n",
       "    </tr>\n",
       "    <tr>\n",
       "      <th>Fully Paid</th>\n",
       "      <td>169360</td>\n",
       "      <td>169360</td>\n",
       "      <td>169360</td>\n",
       "      <td>169360</td>\n",
       "      <td>169360</td>\n",
       "      <td>169360</td>\n",
       "      <td>169360</td>\n",
       "      <td>169360</td>\n",
       "      <td>169360</td>\n",
       "      <td>169360</td>\n",
       "    </tr>\n",
       "    <tr>\n",
       "      <th>In Grace Period</th>\n",
       "      <td>3975</td>\n",
       "      <td>3975</td>\n",
       "      <td>3975</td>\n",
       "      <td>3975</td>\n",
       "      <td>3975</td>\n",
       "      <td>3975</td>\n",
       "      <td>3975</td>\n",
       "      <td>3975</td>\n",
       "      <td>3975</td>\n",
       "      <td>3975</td>\n",
       "    </tr>\n",
       "    <tr>\n",
       "      <th>Issued</th>\n",
       "      <td>5982</td>\n",
       "      <td>5982</td>\n",
       "      <td>5982</td>\n",
       "      <td>5982</td>\n",
       "      <td>5982</td>\n",
       "      <td>5982</td>\n",
       "      <td>5982</td>\n",
       "      <td>5982</td>\n",
       "      <td>5982</td>\n",
       "      <td>5982</td>\n",
       "    </tr>\n",
       "    <tr>\n",
       "      <th>Late (16-30 days)</th>\n",
       "      <td>1483</td>\n",
       "      <td>1483</td>\n",
       "      <td>1483</td>\n",
       "      <td>1483</td>\n",
       "      <td>1483</td>\n",
       "      <td>1483</td>\n",
       "      <td>1483</td>\n",
       "      <td>1483</td>\n",
       "      <td>1483</td>\n",
       "      <td>1483</td>\n",
       "    </tr>\n",
       "    <tr>\n",
       "      <th>Late (31-120 days)</th>\n",
       "      <td>7026</td>\n",
       "      <td>7026</td>\n",
       "      <td>7026</td>\n",
       "      <td>7026</td>\n",
       "      <td>7026</td>\n",
       "      <td>7026</td>\n",
       "      <td>7026</td>\n",
       "      <td>7026</td>\n",
       "      <td>7026</td>\n",
       "      <td>7026</td>\n",
       "    </tr>\n",
       "  </tbody>\n",
       "</table>\n",
       "</div>"
      ],
      "text/plain": [
       "                    loan_amnt  funded_amnt    term  int_rate   grade  \\\n",
       "loan_status                                                            \n",
       "Charged Off             29732        29732   29732     29732   29732   \n",
       "Current                402848       402848  402848    402848  402848   \n",
       "Default                   715          715     715       715     715   \n",
       "Fully Paid             169360       169360  169360    169360  169360   \n",
       "In Grace Period          3975         3975    3975      3975    3975   \n",
       "Issued                   5982         5982    5982      5982    5982   \n",
       "Late (16-30 days)        1483         1483    1483      1483    1483   \n",
       "Late (31-120 days)       7026         7026    7026      7026    7026   \n",
       "\n",
       "                    annual_inc  issue_d     dti  revol_bal  total_pymnt  \n",
       "loan_status                                                              \n",
       "Charged Off              29732    29732   29732      29732        29732  \n",
       "Current                 402848   402848  402848     402848       402848  \n",
       "Default                    715      715     715        715          715  \n",
       "Fully Paid              169360   169360  169360     169360       169360  \n",
       "In Grace Period           3975     3975    3975       3975         3975  \n",
       "Issued                    5982     5982    5982       5982         5982  \n",
       "Late (16-30 days)         1483     1483    1483       1483         1483  \n",
       "Late (31-120 days)        7026     7026    7026       7026         7026  "
      ]
     },
     "execution_count": 19,
     "metadata": {},
     "output_type": "execute_result"
    }
   ],
   "source": [
    "df_def_36m.groupby(by = \"loan_status\").count()"
   ]
  },
  {
   "cell_type": "code",
   "execution_count": 20,
   "metadata": {
    "collapsed": true
   },
   "outputs": [],
   "source": [
    "# Compute percentage of fully paid loans\n",
    "percent_fully_paid = sum(df_def_36m.loan_status == \"Fully Paid\")/df_def_36m.shape[0]"
   ]
  },
  {
   "cell_type": "code",
   "execution_count": 21,
   "metadata": {},
   "outputs": [
    {
     "data": {
      "text/plain": [
       "27.266828846553249"
      ]
     },
     "execution_count": 21,
     "metadata": {},
     "output_type": "execute_result"
    }
   ],
   "source": [
    "result1 = percent_fully_paid*100\n",
    "result1"
   ]
  },
  {
   "cell_type": "markdown",
   "metadata": {},
   "source": [
    "The percentage of loans that have been fully paid is **27.267%**"
   ]
  },
  {
   "cell_type": "markdown",
   "metadata": {},
   "source": [
    "#### Question b)"
   ]
  },
  {
   "cell_type": "markdown",
   "metadata": {},
   "source": [
    "Simplifying assumption: We are ignoring the months, we just take into account the year."
   ]
  },
  {
   "cell_type": "code",
   "execution_count": 22,
   "metadata": {},
   "outputs": [
    {
     "name": "stderr",
     "output_type": "stream",
     "text": [
      "/Users/cbartolm/anaconda/envs/cs230/lib/python3.5/site-packages/ipykernel_launcher.py:2: SettingWithCopyWarning: \n",
      "A value is trying to be set on a copy of a slice from a DataFrame.\n",
      "Try using .loc[row_indexer,col_indexer] = value instead\n",
      "\n",
      "See the caveats in the documentation: http://pandas.pydata.org/pandas-docs/stable/indexing.html#indexing-view-versus-copy\n",
      "  \n"
     ]
    }
   ],
   "source": [
    "# Parse the year from the issue_d column (get rid of months)\n",
    "df_def_36m[\"issue_d\"] = df_def_36m[\"issue_d\"].apply(lambda x: x[-4:])"
   ]
  },
  {
   "cell_type": "code",
   "execution_count": 23,
   "metadata": {
    "collapsed": true
   },
   "outputs": [],
   "source": [
    "groupby_issued_grade = df_def_36m.groupby(by =[\"issue_d\",\"grade\"])"
   ]
  },
  {
   "cell_type": "code",
   "execution_count": 24,
   "metadata": {
    "collapsed": true
   },
   "outputs": [],
   "source": [
    "results = {}\n",
    "for group in groupby_issued_grade.groups.keys():\n",
    "    # Handle parsing edge_case\n",
    "    if group == (' Off', 'Charged Off') or group == ('Paid', 'Fully Paid') :\n",
    "        continue\n",
    "    df_group = groupby_issued_grade.get_group(group)\n",
    "    \n",
    "    #Compute default rate\n",
    "    results[group] = sum(df_group.loan_status != \"Fully Paid\")/df_group.shape[0]"
   ]
  },
  {
   "cell_type": "code",
   "execution_count": 25,
   "metadata": {},
   "outputs": [
    {
     "name": "stdout",
     "output_type": "stream",
     "text": [
      "2007  A    0.054054\n",
      "      B    0.163265\n",
      "      C    0.241135\n",
      "      D    0.313131\n",
      "      E    0.310000\n",
      "      F    0.480769\n",
      "      G    0.485714\n",
      "2008  A    0.059748\n",
      "      B    0.173401\n",
      "      C    0.210345\n",
      "      D    0.264916\n",
      "      E    0.263158\n",
      "      F    0.342342\n",
      "      G    0.325581\n",
      "2009  A    0.067332\n",
      "      B    0.121799\n",
      "      C    0.152819\n",
      "      D    0.179927\n",
      "      E    0.217532\n",
      "      F    0.266667\n",
      "      G    0.327273\n",
      "2010  A    0.043631\n",
      "      B    0.096257\n",
      "      C    0.135266\n",
      "      D    0.185954\n",
      "      E    0.196429\n",
      "      F    0.296703\n",
      "      G    0.352941\n",
      "2011  A    0.063990\n",
      "      B    0.105676\n",
      "             ...   \n",
      "      F    0.240741\n",
      "      G    0.400000\n",
      "2012  A    0.072910\n",
      "      B    0.127462\n",
      "      C    0.178247\n",
      "      D    0.214230\n",
      "      E    0.223899\n",
      "      F    0.184466\n",
      "      G    0.166667\n",
      "2013  A    0.527590\n",
      "      B    0.528972\n",
      "      C    0.547798\n",
      "      D    0.573891\n",
      "      E    0.612074\n",
      "      F    0.630972\n",
      "      G    0.600000\n",
      "2014  A    0.754932\n",
      "      B    0.733820\n",
      "      C    0.738636\n",
      "      D    0.743771\n",
      "      E    0.752477\n",
      "      F    0.776263\n",
      "      G    0.782123\n",
      "2015  A    0.955312\n",
      "      B    0.948912\n",
      "      C    0.931936\n",
      "      D    0.922847\n",
      "      E    0.922857\n",
      "      F    0.923698\n",
      "      G    0.919355\n",
      "Length: 63, dtype: float64  \n",
      "\n"
     ]
    },
    {
     "data": {
      "text/plain": [
       "0.95531220145156925"
      ]
     },
     "execution_count": 25,
     "metadata": {},
     "output_type": "execute_result"
    }
   ],
   "source": [
    "rate_of_defaults = pd.Series(results)\n",
    "print(rate_of_defaults, \" \\n\")\n",
    "max(rate_of_defaults.values)"
   ]
  },
  {
   "cell_type": "code",
   "execution_count": 26,
   "metadata": {},
   "outputs": [
    {
     "data": {
      "text/plain": [
       "2015  A    0.955312\n",
       "dtype: float64"
      ]
     },
     "execution_count": 26,
     "metadata": {},
     "output_type": "execute_result"
    }
   ],
   "source": [
    "rate_of_defaults[rate_of_defaults == max(rate_of_defaults.values)]"
   ]
  },
  {
   "cell_type": "markdown",
   "metadata": {},
   "source": [
    "The cohort with highest rate of defaults is the one that **had Grade A in year 2015**. It makes sense as the last year of the dataset is 2015 and we have lots of new loans that haven't been completed. "
   ]
  },
  {
   "cell_type": "markdown",
   "metadata": {},
   "source": [
    "#### Question c)"
   ]
  },
  {
   "cell_type": "code",
   "execution_count": 27,
   "metadata": {
    "collapsed": true
   },
   "outputs": [],
   "source": [
    "results_qc = {}\n",
    "for group in groupby_issued_grade.groups.keys():\n",
    "    # Handle parsing edge_case\n",
    "    if group == (' Off', 'Charged Off') or group == ('Paid', 'Fully Paid') :\n",
    "        continue\n",
    "    df_group = groupby_issued_grade.get_group(group)\n",
    "    \n",
    "    # Annualized rate of return \n",
    "    results_qc[group] = (df_group.total_pymnt.sum()/df_group.funded_amnt.sum()) ** (1/3) - 1  "
   ]
  },
  {
   "cell_type": "code",
   "execution_count": 28,
   "metadata": {},
   "outputs": [
    {
     "data": {
      "text/plain": [
       "{('2007', 'A'): 0.029510981234221134,\n",
       " ('2007', 'B'): 0.005633400732221183,\n",
       " ('2007', 'C'): 0.00459174891493741,\n",
       " ('2007', 'D'): -0.004947639441878815,\n",
       " ('2007', 'E'): -0.007924172491307502,\n",
       " ('2007', 'F'): -0.05361465639206042,\n",
       " ('2007', 'G'): -0.018772488803600162,\n",
       " ('2008', 'A'): 0.02517599950580096,\n",
       " ('2008', 'B'): 0.011570397871041749,\n",
       " ('2008', 'C'): 0.005625786546544553,\n",
       " ('2008', 'D'): -0.007406748263316998,\n",
       " ('2008', 'E'): 0.012789590802013917,\n",
       " ('2008', 'F'): -0.019383156903218457,\n",
       " ('2008', 'G'): 0.0011486994276166396,\n",
       " ('2009', 'A'): 0.025974351901660198,\n",
       " ('2009', 'B'): 0.024575265524935164,\n",
       " ('2009', 'C'): 0.026517979503528633,\n",
       " ('2009', 'D'): 0.02968872780333487,\n",
       " ('2009', 'E'): 0.024362380033757125,\n",
       " ('2009', 'F'): 0.009906796177223454,\n",
       " ('2009', 'G'): 0.022791411315016274,\n",
       " ('2010', 'A'): 0.02497368520082688,\n",
       " ('2010', 'B'): 0.03068065271887077,\n",
       " ('2010', 'C'): 0.034709337171348276,\n",
       " ('2010', 'D'): 0.03527269522568188,\n",
       " ('2010', 'E'): 0.03696247325978774,\n",
       " ('2010', 'F'): 0.008803921127172432,\n",
       " ('2010', 'G'): 0.02672751802057527,\n",
       " ('2011', 'A'): 0.02149343236125212,\n",
       " ('2011', 'B'): 0.03215429635331746,\n",
       " ('2011', 'C'): 0.03361194615916108,\n",
       " ('2011', 'D'): 0.04173446019664273,\n",
       " ('2011', 'E'): 0.05241237844352398,\n",
       " ('2011', 'F'): 0.035957606413368204,\n",
       " ('2011', 'G'): -0.016274912974726496,\n",
       " ('2012', 'A'): 0.021932517817907282,\n",
       " ('2012', 'B'): 0.0322548479414293,\n",
       " ('2012', 'C'): 0.036009235911132365,\n",
       " ('2012', 'D'): 0.04120986273072469,\n",
       " ('2012', 'E'): 0.049170857733066065,\n",
       " ('2012', 'F'): 0.052267995513984644,\n",
       " ('2012', 'G'): 0.07095560616647067,\n",
       " ('2013', 'A'): -0.008649776430722733,\n",
       " ('2013', 'B'): 0.0025187650847295906,\n",
       " ('2013', 'C'): 0.008148853368849851,\n",
       " ('2013', 'D'): 0.00833180018463886,\n",
       " ('2013', 'E'): 0.005814774794467681,\n",
       " ('2013', 'F'): -0.0036849003126874225,\n",
       " ('2013', 'G'): -0.03138705838906852,\n",
       " ('2014', 'A'): -0.12771949567060215,\n",
       " ('2014', 'B'): -0.10712545795162909,\n",
       " ('2014', 'C'): -0.10454837343436385,\n",
       " ('2014', 'D'): -0.10524465539370964,\n",
       " ('2014', 'E'): -0.10222967074098632,\n",
       " ('2014', 'F'): -0.09368337918684244,\n",
       " ('2014', 'G'): -0.09642376651570672,\n",
       " ('2015', 'A'): -0.4050308742385321,\n",
       " ('2015', 'B'): -0.40262006279372664,\n",
       " ('2015', 'C'): -0.37705764002581754,\n",
       " ('2015', 'D'): -0.35344251432726237,\n",
       " ('2015', 'E'): -0.3395362234782897,\n",
       " ('2015', 'F'): -0.3470934602696347,\n",
       " ('2015', 'G'): -0.3598283388921927}"
      ]
     },
     "execution_count": 28,
     "metadata": {},
     "output_type": "execute_result"
    }
   ],
   "source": [
    "# Rate of return each group (Needs review!)\n",
    "results_qc"
   ]
  },
  {
   "cell_type": "markdown",
   "metadata": {},
   "source": [
    "## Part III: Prediction with Logistic Regression "
   ]
  },
  {
   "cell_type": "markdown",
   "metadata": {},
   "source": [
    "### 1) Preprocessing required to satisfy the requirements of Part 3: \n",
    "\n",
    "- (i) you are given the ability to invest in each loan independently\n",
    "- (ii) you invest immediately following loan origination and hold to maturity (36 months)\n",
    "- (iii) all loan fields that would be known upon origination are made available to you. "
   ]
  },
  {
   "cell_type": "code",
   "execution_count": 71,
   "metadata": {},
   "outputs": [
    {
     "data": {
      "text/plain": [
       "(621121, 11)"
      ]
     },
     "execution_count": 71,
     "metadata": {},
     "output_type": "execute_result"
    }
   ],
   "source": [
    "# Recall basic properties of the filtered dataset with the 36 month term loans\n",
    "df_def_36m.shape"
   ]
  },
  {
   "cell_type": "code",
   "execution_count": 72,
   "metadata": {},
   "outputs": [
    {
     "data": {
      "text/html": [
       "<div>\n",
       "<style>\n",
       "    .dataframe thead tr:only-child th {\n",
       "        text-align: right;\n",
       "    }\n",
       "\n",
       "    .dataframe thead th {\n",
       "        text-align: left;\n",
       "    }\n",
       "\n",
       "    .dataframe tbody tr th {\n",
       "        vertical-align: top;\n",
       "    }\n",
       "</style>\n",
       "<table border=\"1\" class=\"dataframe\">\n",
       "  <thead>\n",
       "    <tr style=\"text-align: right;\">\n",
       "      <th></th>\n",
       "      <th>loan_amnt</th>\n",
       "      <th>funded_amnt</th>\n",
       "      <th>term</th>\n",
       "      <th>int_rate</th>\n",
       "      <th>grade</th>\n",
       "      <th>annual_inc</th>\n",
       "      <th>issue_d</th>\n",
       "      <th>dti</th>\n",
       "      <th>revol_bal</th>\n",
       "      <th>total_pymnt</th>\n",
       "      <th>loan_status</th>\n",
       "    </tr>\n",
       "  </thead>\n",
       "  <tbody>\n",
       "    <tr>\n",
       "      <th>0</th>\n",
       "      <td>5000.0</td>\n",
       "      <td>5000.0</td>\n",
       "      <td>36 months</td>\n",
       "      <td>10.65</td>\n",
       "      <td>B</td>\n",
       "      <td>24000.0</td>\n",
       "      <td>2011</td>\n",
       "      <td>27.65</td>\n",
       "      <td>13648.0</td>\n",
       "      <td>5861.071414</td>\n",
       "      <td>Fully Paid</td>\n",
       "    </tr>\n",
       "    <tr>\n",
       "      <th>2</th>\n",
       "      <td>2400.0</td>\n",
       "      <td>2400.0</td>\n",
       "      <td>36 months</td>\n",
       "      <td>15.96</td>\n",
       "      <td>C</td>\n",
       "      <td>12252.0</td>\n",
       "      <td>2011</td>\n",
       "      <td>8.72</td>\n",
       "      <td>2956.0</td>\n",
       "      <td>3003.653644</td>\n",
       "      <td>Fully Paid</td>\n",
       "    </tr>\n",
       "    <tr>\n",
       "      <th>3</th>\n",
       "      <td>10000.0</td>\n",
       "      <td>10000.0</td>\n",
       "      <td>36 months</td>\n",
       "      <td>13.49</td>\n",
       "      <td>C</td>\n",
       "      <td>49200.0</td>\n",
       "      <td>2011</td>\n",
       "      <td>20.00</td>\n",
       "      <td>5598.0</td>\n",
       "      <td>12226.302212</td>\n",
       "      <td>Fully Paid</td>\n",
       "    </tr>\n",
       "    <tr>\n",
       "      <th>5</th>\n",
       "      <td>5000.0</td>\n",
       "      <td>5000.0</td>\n",
       "      <td>36 months</td>\n",
       "      <td>7.90</td>\n",
       "      <td>A</td>\n",
       "      <td>36000.0</td>\n",
       "      <td>2011</td>\n",
       "      <td>11.20</td>\n",
       "      <td>7963.0</td>\n",
       "      <td>5631.377753</td>\n",
       "      <td>Fully Paid</td>\n",
       "    </tr>\n",
       "    <tr>\n",
       "      <th>7</th>\n",
       "      <td>3000.0</td>\n",
       "      <td>3000.0</td>\n",
       "      <td>36 months</td>\n",
       "      <td>18.64</td>\n",
       "      <td>E</td>\n",
       "      <td>48000.0</td>\n",
       "      <td>2011</td>\n",
       "      <td>5.35</td>\n",
       "      <td>8221.0</td>\n",
       "      <td>3938.144334</td>\n",
       "      <td>Fully Paid</td>\n",
       "    </tr>\n",
       "    <tr>\n",
       "      <th>11</th>\n",
       "      <td>12000.0</td>\n",
       "      <td>12000.0</td>\n",
       "      <td>36 months</td>\n",
       "      <td>12.69</td>\n",
       "      <td>B</td>\n",
       "      <td>75000.0</td>\n",
       "      <td>2011</td>\n",
       "      <td>10.78</td>\n",
       "      <td>23336.0</td>\n",
       "      <td>13943.080000</td>\n",
       "      <td>Fully Paid</td>\n",
       "    </tr>\n",
       "    <tr>\n",
       "      <th>12</th>\n",
       "      <td>9000.0</td>\n",
       "      <td>9000.0</td>\n",
       "      <td>36 months</td>\n",
       "      <td>13.49</td>\n",
       "      <td>C</td>\n",
       "      <td>30000.0</td>\n",
       "      <td>2011</td>\n",
       "      <td>10.08</td>\n",
       "      <td>10452.0</td>\n",
       "      <td>2270.700000</td>\n",
       "      <td>Default</td>\n",
       "    </tr>\n",
       "    <tr>\n",
       "      <th>13</th>\n",
       "      <td>3000.0</td>\n",
       "      <td>3000.0</td>\n",
       "      <td>36 months</td>\n",
       "      <td>9.91</td>\n",
       "      <td>B</td>\n",
       "      <td>15000.0</td>\n",
       "      <td>2011</td>\n",
       "      <td>12.56</td>\n",
       "      <td>7323.0</td>\n",
       "      <td>3478.981915</td>\n",
       "      <td>Fully Paid</td>\n",
       "    </tr>\n",
       "    <tr>\n",
       "      <th>14</th>\n",
       "      <td>10000.0</td>\n",
       "      <td>10000.0</td>\n",
       "      <td>36 months</td>\n",
       "      <td>10.65</td>\n",
       "      <td>B</td>\n",
       "      <td>100000.0</td>\n",
       "      <td>2011</td>\n",
       "      <td>7.06</td>\n",
       "      <td>11997.0</td>\n",
       "      <td>7471.990000</td>\n",
       "      <td>Default</td>\n",
       "    </tr>\n",
       "    <tr>\n",
       "      <th>15</th>\n",
       "      <td>1000.0</td>\n",
       "      <td>1000.0</td>\n",
       "      <td>36 months</td>\n",
       "      <td>16.29</td>\n",
       "      <td>D</td>\n",
       "      <td>28000.0</td>\n",
       "      <td>2011</td>\n",
       "      <td>20.31</td>\n",
       "      <td>6524.0</td>\n",
       "      <td>1270.171106</td>\n",
       "      <td>Fully Paid</td>\n",
       "    </tr>\n",
       "  </tbody>\n",
       "</table>\n",
       "</div>"
      ],
      "text/plain": [
       "    loan_amnt  funded_amnt        term  int_rate grade  annual_inc issue_d  \\\n",
       "0      5000.0       5000.0   36 months     10.65     B     24000.0    2011   \n",
       "2      2400.0       2400.0   36 months     15.96     C     12252.0    2011   \n",
       "3     10000.0      10000.0   36 months     13.49     C     49200.0    2011   \n",
       "5      5000.0       5000.0   36 months      7.90     A     36000.0    2011   \n",
       "7      3000.0       3000.0   36 months     18.64     E     48000.0    2011   \n",
       "11    12000.0      12000.0   36 months     12.69     B     75000.0    2011   \n",
       "12     9000.0       9000.0   36 months     13.49     C     30000.0    2011   \n",
       "13     3000.0       3000.0   36 months      9.91     B     15000.0    2011   \n",
       "14    10000.0      10000.0   36 months     10.65     B    100000.0    2011   \n",
       "15     1000.0       1000.0   36 months     16.29     D     28000.0    2011   \n",
       "\n",
       "      dti  revol_bal   total_pymnt loan_status  \n",
       "0   27.65    13648.0   5861.071414  Fully Paid  \n",
       "2    8.72     2956.0   3003.653644  Fully Paid  \n",
       "3   20.00     5598.0  12226.302212  Fully Paid  \n",
       "5   11.20     7963.0   5631.377753  Fully Paid  \n",
       "7    5.35     8221.0   3938.144334  Fully Paid  \n",
       "11  10.78    23336.0  13943.080000  Fully Paid  \n",
       "12  10.08    10452.0   2270.700000     Default  \n",
       "13  12.56     7323.0   3478.981915  Fully Paid  \n",
       "14   7.06    11997.0   7471.990000     Default  \n",
       "15  20.31     6524.0   1270.171106  Fully Paid  "
      ]
     },
     "execution_count": 72,
     "metadata": {},
     "output_type": "execute_result"
    }
   ],
   "source": [
    "df_def_36m.head(10)"
   ]
  },
  {
   "cell_type": "code",
   "execution_count": 73,
   "metadata": {},
   "outputs": [
    {
     "data": {
      "text/plain": [
       "0    False\n",
       "2    False\n",
       "3    False\n",
       "5    False\n",
       "7    False\n",
       "Name: loan_status, dtype: bool"
      ]
     },
     "execution_count": 73,
     "metadata": {},
     "output_type": "execute_result"
    }
   ],
   "source": [
    "# Check validity condition\n",
    "(df_def_36m.loan_status != \"Fully Paid\").head()"
   ]
  },
  {
   "cell_type": "code",
   "execution_count": 74,
   "metadata": {},
   "outputs": [
    {
     "name": "stderr",
     "output_type": "stream",
     "text": [
      "/Users/cbartolm/anaconda/envs/cs230/lib/python3.5/site-packages/ipykernel_launcher.py:5: SettingWithCopyWarning: \n",
      "A value is trying to be set on a copy of a slice from a DataFrame\n",
      "\n",
      "See the caveats in the documentation: http://pandas.pydata.org/pandas-docs/stable/indexing.html#indexing-view-versus-copy\n",
      "  \"\"\"\n",
      "/Users/cbartolm/anaconda/envs/cs230/lib/python3.5/site-packages/pandas/core/generic.py:5233: SettingWithCopyWarning: \n",
      "A value is trying to be set on a copy of a slice from a DataFrame\n",
      "\n",
      "See the caveats in the documentation: http://pandas.pydata.org/pandas-docs/stable/indexing.html#indexing-view-versus-copy\n",
      "  self._update_inplace(new_data)\n",
      "/Users/cbartolm/anaconda/envs/cs230/lib/python3.5/site-packages/IPython/core/interactiveshell.py:2862: SettingWithCopyWarning: \n",
      "A value is trying to be set on a copy of a slice from a DataFrame\n",
      "\n",
      "See the caveats in the documentation: http://pandas.pydata.org/pandas-docs/stable/indexing.html#indexing-view-versus-copy\n",
      "  exec(code_obj, self.user_global_ns, self.user_ns)\n"
     ]
    }
   ],
   "source": [
    "# Store the dataframe in a new variable for prediction\n",
    "df_def_36m_prediction = df_def_36m\n",
    "\n",
    "# Label all training examples that are not fully paid as Default\n",
    "df_def_36m_prediction.loan_status[df_def_36m_prediction.loan_status != \"Fully Paid\"] = \"Default\""
   ]
  },
  {
   "cell_type": "code",
   "execution_count": 75,
   "metadata": {},
   "outputs": [
    {
     "data": {
      "text/html": [
       "<div>\n",
       "<style>\n",
       "    .dataframe thead tr:only-child th {\n",
       "        text-align: right;\n",
       "    }\n",
       "\n",
       "    .dataframe thead th {\n",
       "        text-align: left;\n",
       "    }\n",
       "\n",
       "    .dataframe tbody tr th {\n",
       "        vertical-align: top;\n",
       "    }\n",
       "</style>\n",
       "<table border=\"1\" class=\"dataframe\">\n",
       "  <thead>\n",
       "    <tr style=\"text-align: right;\">\n",
       "      <th></th>\n",
       "      <th>loan_amnt</th>\n",
       "      <th>funded_amnt</th>\n",
       "      <th>term</th>\n",
       "      <th>int_rate</th>\n",
       "      <th>grade</th>\n",
       "      <th>annual_inc</th>\n",
       "      <th>issue_d</th>\n",
       "      <th>dti</th>\n",
       "      <th>revol_bal</th>\n",
       "      <th>total_pymnt</th>\n",
       "      <th>loan_status</th>\n",
       "    </tr>\n",
       "  </thead>\n",
       "  <tbody>\n",
       "    <tr>\n",
       "      <th>0</th>\n",
       "      <td>5000.0</td>\n",
       "      <td>5000.0</td>\n",
       "      <td>36 months</td>\n",
       "      <td>10.65</td>\n",
       "      <td>B</td>\n",
       "      <td>24000.00</td>\n",
       "      <td>2011</td>\n",
       "      <td>27.65</td>\n",
       "      <td>13648.0</td>\n",
       "      <td>5861.071414</td>\n",
       "      <td>Fully Paid</td>\n",
       "    </tr>\n",
       "    <tr>\n",
       "      <th>2</th>\n",
       "      <td>2400.0</td>\n",
       "      <td>2400.0</td>\n",
       "      <td>36 months</td>\n",
       "      <td>15.96</td>\n",
       "      <td>C</td>\n",
       "      <td>12252.00</td>\n",
       "      <td>2011</td>\n",
       "      <td>8.72</td>\n",
       "      <td>2956.0</td>\n",
       "      <td>3003.653644</td>\n",
       "      <td>Fully Paid</td>\n",
       "    </tr>\n",
       "    <tr>\n",
       "      <th>3</th>\n",
       "      <td>10000.0</td>\n",
       "      <td>10000.0</td>\n",
       "      <td>36 months</td>\n",
       "      <td>13.49</td>\n",
       "      <td>C</td>\n",
       "      <td>49200.00</td>\n",
       "      <td>2011</td>\n",
       "      <td>20.00</td>\n",
       "      <td>5598.0</td>\n",
       "      <td>12226.302212</td>\n",
       "      <td>Fully Paid</td>\n",
       "    </tr>\n",
       "    <tr>\n",
       "      <th>5</th>\n",
       "      <td>5000.0</td>\n",
       "      <td>5000.0</td>\n",
       "      <td>36 months</td>\n",
       "      <td>7.90</td>\n",
       "      <td>A</td>\n",
       "      <td>36000.00</td>\n",
       "      <td>2011</td>\n",
       "      <td>11.20</td>\n",
       "      <td>7963.0</td>\n",
       "      <td>5631.377753</td>\n",
       "      <td>Fully Paid</td>\n",
       "    </tr>\n",
       "    <tr>\n",
       "      <th>7</th>\n",
       "      <td>3000.0</td>\n",
       "      <td>3000.0</td>\n",
       "      <td>36 months</td>\n",
       "      <td>18.64</td>\n",
       "      <td>E</td>\n",
       "      <td>48000.00</td>\n",
       "      <td>2011</td>\n",
       "      <td>5.35</td>\n",
       "      <td>8221.0</td>\n",
       "      <td>3938.144334</td>\n",
       "      <td>Fully Paid</td>\n",
       "    </tr>\n",
       "    <tr>\n",
       "      <th>11</th>\n",
       "      <td>12000.0</td>\n",
       "      <td>12000.0</td>\n",
       "      <td>36 months</td>\n",
       "      <td>12.69</td>\n",
       "      <td>B</td>\n",
       "      <td>75000.00</td>\n",
       "      <td>2011</td>\n",
       "      <td>10.78</td>\n",
       "      <td>23336.0</td>\n",
       "      <td>13943.080000</td>\n",
       "      <td>Fully Paid</td>\n",
       "    </tr>\n",
       "    <tr>\n",
       "      <th>12</th>\n",
       "      <td>9000.0</td>\n",
       "      <td>9000.0</td>\n",
       "      <td>36 months</td>\n",
       "      <td>13.49</td>\n",
       "      <td>C</td>\n",
       "      <td>30000.00</td>\n",
       "      <td>2011</td>\n",
       "      <td>10.08</td>\n",
       "      <td>10452.0</td>\n",
       "      <td>2270.700000</td>\n",
       "      <td>Default</td>\n",
       "    </tr>\n",
       "    <tr>\n",
       "      <th>13</th>\n",
       "      <td>3000.0</td>\n",
       "      <td>3000.0</td>\n",
       "      <td>36 months</td>\n",
       "      <td>9.91</td>\n",
       "      <td>B</td>\n",
       "      <td>15000.00</td>\n",
       "      <td>2011</td>\n",
       "      <td>12.56</td>\n",
       "      <td>7323.0</td>\n",
       "      <td>3478.981915</td>\n",
       "      <td>Fully Paid</td>\n",
       "    </tr>\n",
       "    <tr>\n",
       "      <th>14</th>\n",
       "      <td>10000.0</td>\n",
       "      <td>10000.0</td>\n",
       "      <td>36 months</td>\n",
       "      <td>10.65</td>\n",
       "      <td>B</td>\n",
       "      <td>100000.00</td>\n",
       "      <td>2011</td>\n",
       "      <td>7.06</td>\n",
       "      <td>11997.0</td>\n",
       "      <td>7471.990000</td>\n",
       "      <td>Default</td>\n",
       "    </tr>\n",
       "    <tr>\n",
       "      <th>15</th>\n",
       "      <td>1000.0</td>\n",
       "      <td>1000.0</td>\n",
       "      <td>36 months</td>\n",
       "      <td>16.29</td>\n",
       "      <td>D</td>\n",
       "      <td>28000.00</td>\n",
       "      <td>2011</td>\n",
       "      <td>20.31</td>\n",
       "      <td>6524.0</td>\n",
       "      <td>1270.171106</td>\n",
       "      <td>Fully Paid</td>\n",
       "    </tr>\n",
       "    <tr>\n",
       "      <th>16</th>\n",
       "      <td>10000.0</td>\n",
       "      <td>10000.0</td>\n",
       "      <td>36 months</td>\n",
       "      <td>15.27</td>\n",
       "      <td>C</td>\n",
       "      <td>42000.00</td>\n",
       "      <td>2011</td>\n",
       "      <td>18.60</td>\n",
       "      <td>24043.0</td>\n",
       "      <td>12519.260450</td>\n",
       "      <td>Fully Paid</td>\n",
       "    </tr>\n",
       "    <tr>\n",
       "      <th>17</th>\n",
       "      <td>3600.0</td>\n",
       "      <td>3600.0</td>\n",
       "      <td>36 months</td>\n",
       "      <td>6.03</td>\n",
       "      <td>A</td>\n",
       "      <td>110000.00</td>\n",
       "      <td>2011</td>\n",
       "      <td>10.52</td>\n",
       "      <td>22836.0</td>\n",
       "      <td>3785.020000</td>\n",
       "      <td>Fully Paid</td>\n",
       "    </tr>\n",
       "    <tr>\n",
       "      <th>18</th>\n",
       "      <td>6000.0</td>\n",
       "      <td>6000.0</td>\n",
       "      <td>36 months</td>\n",
       "      <td>11.71</td>\n",
       "      <td>B</td>\n",
       "      <td>84000.00</td>\n",
       "      <td>2011</td>\n",
       "      <td>18.44</td>\n",
       "      <td>0.0</td>\n",
       "      <td>7164.499852</td>\n",
       "      <td>Fully Paid</td>\n",
       "    </tr>\n",
       "    <tr>\n",
       "      <th>19</th>\n",
       "      <td>9200.0</td>\n",
       "      <td>9200.0</td>\n",
       "      <td>36 months</td>\n",
       "      <td>6.03</td>\n",
       "      <td>A</td>\n",
       "      <td>77385.19</td>\n",
       "      <td>2011</td>\n",
       "      <td>9.86</td>\n",
       "      <td>7314.0</td>\n",
       "      <td>9459.960000</td>\n",
       "      <td>Fully Paid</td>\n",
       "    </tr>\n",
       "    <tr>\n",
       "      <th>21</th>\n",
       "      <td>21000.0</td>\n",
       "      <td>21000.0</td>\n",
       "      <td>36 months</td>\n",
       "      <td>12.42</td>\n",
       "      <td>B</td>\n",
       "      <td>105000.00</td>\n",
       "      <td>2011</td>\n",
       "      <td>13.22</td>\n",
       "      <td>32135.0</td>\n",
       "      <td>14025.400000</td>\n",
       "      <td>Default</td>\n",
       "    </tr>\n",
       "    <tr>\n",
       "      <th>22</th>\n",
       "      <td>10000.0</td>\n",
       "      <td>10000.0</td>\n",
       "      <td>36 months</td>\n",
       "      <td>11.71</td>\n",
       "      <td>B</td>\n",
       "      <td>50000.00</td>\n",
       "      <td>2011</td>\n",
       "      <td>11.18</td>\n",
       "      <td>10056.0</td>\n",
       "      <td>11902.561575</td>\n",
       "      <td>Fully Paid</td>\n",
       "    </tr>\n",
       "    <tr>\n",
       "      <th>23</th>\n",
       "      <td>10000.0</td>\n",
       "      <td>10000.0</td>\n",
       "      <td>36 months</td>\n",
       "      <td>11.71</td>\n",
       "      <td>B</td>\n",
       "      <td>50000.00</td>\n",
       "      <td>2011</td>\n",
       "      <td>16.01</td>\n",
       "      <td>17800.0</td>\n",
       "      <td>11536.310000</td>\n",
       "      <td>Fully Paid</td>\n",
       "    </tr>\n",
       "    <tr>\n",
       "      <th>24</th>\n",
       "      <td>6000.0</td>\n",
       "      <td>6000.0</td>\n",
       "      <td>36 months</td>\n",
       "      <td>11.71</td>\n",
       "      <td>B</td>\n",
       "      <td>76000.00</td>\n",
       "      <td>2011</td>\n",
       "      <td>2.40</td>\n",
       "      <td>5963.0</td>\n",
       "      <td>2050.140000</td>\n",
       "      <td>Default</td>\n",
       "    </tr>\n",
       "    <tr>\n",
       "      <th>25</th>\n",
       "      <td>15000.0</td>\n",
       "      <td>15000.0</td>\n",
       "      <td>36 months</td>\n",
       "      <td>9.91</td>\n",
       "      <td>B</td>\n",
       "      <td>92000.00</td>\n",
       "      <td>2011</td>\n",
       "      <td>29.44</td>\n",
       "      <td>13707.0</td>\n",
       "      <td>15823.480000</td>\n",
       "      <td>Fully Paid</td>\n",
       "    </tr>\n",
       "    <tr>\n",
       "      <th>26</th>\n",
       "      <td>15000.0</td>\n",
       "      <td>15000.0</td>\n",
       "      <td>36 months</td>\n",
       "      <td>14.27</td>\n",
       "      <td>C</td>\n",
       "      <td>60000.00</td>\n",
       "      <td>2011</td>\n",
       "      <td>15.22</td>\n",
       "      <td>5872.0</td>\n",
       "      <td>0.000000</td>\n",
       "      <td>Default</td>\n",
       "    </tr>\n",
       "  </tbody>\n",
       "</table>\n",
       "</div>"
      ],
      "text/plain": [
       "    loan_amnt  funded_amnt        term  int_rate grade  annual_inc issue_d  \\\n",
       "0      5000.0       5000.0   36 months     10.65     B    24000.00    2011   \n",
       "2      2400.0       2400.0   36 months     15.96     C    12252.00    2011   \n",
       "3     10000.0      10000.0   36 months     13.49     C    49200.00    2011   \n",
       "5      5000.0       5000.0   36 months      7.90     A    36000.00    2011   \n",
       "7      3000.0       3000.0   36 months     18.64     E    48000.00    2011   \n",
       "11    12000.0      12000.0   36 months     12.69     B    75000.00    2011   \n",
       "12     9000.0       9000.0   36 months     13.49     C    30000.00    2011   \n",
       "13     3000.0       3000.0   36 months      9.91     B    15000.00    2011   \n",
       "14    10000.0      10000.0   36 months     10.65     B   100000.00    2011   \n",
       "15     1000.0       1000.0   36 months     16.29     D    28000.00    2011   \n",
       "16    10000.0      10000.0   36 months     15.27     C    42000.00    2011   \n",
       "17     3600.0       3600.0   36 months      6.03     A   110000.00    2011   \n",
       "18     6000.0       6000.0   36 months     11.71     B    84000.00    2011   \n",
       "19     9200.0       9200.0   36 months      6.03     A    77385.19    2011   \n",
       "21    21000.0      21000.0   36 months     12.42     B   105000.00    2011   \n",
       "22    10000.0      10000.0   36 months     11.71     B    50000.00    2011   \n",
       "23    10000.0      10000.0   36 months     11.71     B    50000.00    2011   \n",
       "24     6000.0       6000.0   36 months     11.71     B    76000.00    2011   \n",
       "25    15000.0      15000.0   36 months      9.91     B    92000.00    2011   \n",
       "26    15000.0      15000.0   36 months     14.27     C    60000.00    2011   \n",
       "\n",
       "      dti  revol_bal   total_pymnt loan_status  \n",
       "0   27.65    13648.0   5861.071414  Fully Paid  \n",
       "2    8.72     2956.0   3003.653644  Fully Paid  \n",
       "3   20.00     5598.0  12226.302212  Fully Paid  \n",
       "5   11.20     7963.0   5631.377753  Fully Paid  \n",
       "7    5.35     8221.0   3938.144334  Fully Paid  \n",
       "11  10.78    23336.0  13943.080000  Fully Paid  \n",
       "12  10.08    10452.0   2270.700000     Default  \n",
       "13  12.56     7323.0   3478.981915  Fully Paid  \n",
       "14   7.06    11997.0   7471.990000     Default  \n",
       "15  20.31     6524.0   1270.171106  Fully Paid  \n",
       "16  18.60    24043.0  12519.260450  Fully Paid  \n",
       "17  10.52    22836.0   3785.020000  Fully Paid  \n",
       "18  18.44        0.0   7164.499852  Fully Paid  \n",
       "19   9.86     7314.0   9459.960000  Fully Paid  \n",
       "21  13.22    32135.0  14025.400000     Default  \n",
       "22  11.18    10056.0  11902.561575  Fully Paid  \n",
       "23  16.01    17800.0  11536.310000  Fully Paid  \n",
       "24   2.40     5963.0   2050.140000     Default  \n",
       "25  29.44    13707.0  15823.480000  Fully Paid  \n",
       "26  15.22     5872.0      0.000000     Default  "
      ]
     },
     "execution_count": 75,
     "metadata": {},
     "output_type": "execute_result"
    }
   ],
   "source": [
    "# Sanity-check\n",
    "df_def_36m_prediction.head(20)"
   ]
  },
  {
   "cell_type": "code",
   "execution_count": 76,
   "metadata": {},
   "outputs": [
    {
     "name": "stdout",
     "output_type": "stream",
     "text": [
      "loan_amnt      0\n",
      "funded_amnt    0\n",
      "term           0\n",
      "int_rate       0\n",
      "grade          0\n",
      "annual_inc     0\n",
      "issue_d        0\n",
      "dti            0\n",
      "revol_bal      0\n",
      "total_pymnt    0\n",
      "loan_status    0\n",
      "dtype: int64\n"
     ]
    }
   ],
   "source": [
    "# Check that there are not NAN values (Could cause problems later on in sklearn)\n",
    "print(df_def_36m_prediction.isnull().sum())"
   ]
  },
  {
   "cell_type": "code",
   "execution_count": 77,
   "metadata": {},
   "outputs": [
    {
     "data": {
      "text/plain": [
       "{'2007', '2008', '2009', '2010', '2011', '2012', '2013', '2014', '2015'}"
      ]
     },
     "execution_count": 77,
     "metadata": {},
     "output_type": "execute_result"
    }
   ],
   "source": [
    "# See what is the range of years for recorded loans\n",
    "set(df_def_36m_prediction[\"issue_d\"].values)"
   ]
  },
  {
   "cell_type": "code",
   "execution_count": 78,
   "metadata": {},
   "outputs": [
    {
     "data": {
      "text/plain": [
       "2015    283172\n",
       "2014    162569\n",
       "2013    100380\n",
       "2012     43470\n",
       "2011     14101\n",
       "2010      9156\n",
       "2009      5281\n",
       "2008      2393\n",
       "2007       599\n",
       "Name: issue_d, dtype: int64"
      ]
     },
     "execution_count": 78,
     "metadata": {},
     "output_type": "execute_result"
    }
   ],
   "source": [
    "df_def_36m_prediction[\"issue_d\"].value_counts()"
   ]
  },
  {
   "cell_type": "code",
   "execution_count": 79,
   "metadata": {},
   "outputs": [
    {
     "name": "stdout",
     "output_type": "stream",
     "text": [
      "(621121, 11) \n",
      "\n",
      "(337949, 11)\n",
      "(175380, 11)\n",
      "(75000, 11)\n"
     ]
    }
   ],
   "source": [
    "'''ASSUMPTION 1:\n",
    "# Remove loans issued in the last three years (not enough time to assess performance in 36 months).\n",
    "# Coarse simplification to satisfy analysis requirements (We are droping more than 50% of the data!)\n",
    "'''\n",
    "\n",
    "print(df_def_36m_prediction.shape, \"\\n\")\n",
    "df_def_36m_prediction = \\\n",
    "df_def_36m_prediction.drop(df_def_36m_prediction[df_def_36m_prediction.issue_d == '2015'].index)\n",
    "print(df_def_36m_prediction.shape)\n",
    "df_def_36m_prediction = df_def_36m_prediction.drop(df_def_36m_prediction[df_def_36m_prediction.issue_d == '2014'].index)\n",
    "print(df_def_36m_prediction.shape)\n",
    "df_def_36m_prediction = df_def_36m_prediction.drop(df_def_36m_prediction[df_def_36m_prediction.issue_d == '2013'].index)\n",
    "print(df_def_36m_prediction.shape)"
   ]
  },
  {
   "cell_type": "code",
   "execution_count": 80,
   "metadata": {},
   "outputs": [
    {
     "name": "stdout",
     "output_type": "stream",
     "text": [
      "2012    43470\n",
      "2011    14101\n",
      "2010     9156\n",
      "2009     5281\n",
      "2008     2393\n",
      "2007      599\n",
      "Name: issue_d, dtype: int64 \n",
      "\n",
      "(75000, 11)\n"
     ]
    }
   ],
   "source": [
    "print(df_def_36m_prediction[\"issue_d\"].value_counts(), \"\\n\")\n",
    "print(df_def_36m_prediction.shape)"
   ]
  },
  {
   "cell_type": "code",
   "execution_count": 81,
   "metadata": {},
   "outputs": [
    {
     "data": {
      "text/plain": [
       "\" ASSUMPTION 2:\\nThe response variable for this prediction task is the loan_status column.\\nAs it is a binary value {'Fully_Paid', 'Default'}, we are going to perform a binary classification task.\\nWe are going to assume that the other 10 columns are available from the customer before issuing a loan. \\nThus, we are going to use them as covariates for this prediction task. \\n\""
      ]
     },
     "execution_count": 81,
     "metadata": {},
     "output_type": "execute_result"
    }
   ],
   "source": [
    "''' ASSUMPTION 2:\n",
    "The response variable for this prediction task is the loan_status column.\n",
    "As it is a binary value {'Fully_Paid', 'Default'}, we are going to perform a binary classification task.\n",
    "We are going to assume that the other 10 columns are available from the customer before issuing a loan. \n",
    "Thus, we are going to use them as covariates for this prediction task. \n",
    "'''"
   ]
  },
  {
   "cell_type": "markdown",
   "metadata": {},
   "source": [
    "### Dataframe optimization before running sklearn algorithms"
   ]
  },
  {
   "cell_type": "code",
   "execution_count": 82,
   "metadata": {},
   "outputs": [
    {
     "name": "stdout",
     "output_type": "stream",
     "text": [
      "<class 'pandas.core.frame.DataFrame'>\n",
      "Int64Index: 75000 entries, 0 to 230655\n",
      "Data columns (total 11 columns):\n",
      "loan_amnt      75000 non-null float64\n",
      "funded_amnt    75000 non-null float64\n",
      "term           75000 non-null object\n",
      "int_rate       75000 non-null float64\n",
      "grade          75000 non-null object\n",
      "annual_inc     75000 non-null float64\n",
      "issue_d        75000 non-null object\n",
      "dti            75000 non-null float64\n",
      "revol_bal      75000 non-null float64\n",
      "total_pymnt    75000 non-null float64\n",
      "loan_status    75000 non-null object\n",
      "dtypes: float64(7), object(4)\n",
      "memory usage: 6.9+ MB\n"
     ]
    }
   ],
   "source": [
    "# Check dtypes of the features/covariates\n",
    "df_def_36m_prediction.info()"
   ]
  },
  {
   "cell_type": "code",
   "execution_count": 83,
   "metadata": {},
   "outputs": [],
   "source": [
    "## Dataframe Optimization to speed up ML algorithms\n",
    "\n",
    "# Drop term column (doesn't provide extra information as it is single valued)\n",
    "df_def_36m_prediction = df_def_36m_prediction.drop('term', axis = 1)\n",
    "\n",
    "# Dtype transformation\n",
    "df_def_36m_prediction['funded_amnt'].astype(int)\n",
    "df_def_36m_prediction['loan_amnt'].astype(int)\n",
    "df_def_36m_prediction['annual_inc'].astype(int)\n",
    "df_def_36m_prediction['revol_bal'].astype(int)\n",
    "\n",
    "df_def_36m_prediction['int_rate'].astype(float)\n",
    "df_def_36m_prediction['dti'].astype(float)\n",
    "df_def_36m_prediction['total_pymnt'].astype(float)\n",
    "\n",
    "from sklearn.preprocessing import LabelEncoder\n",
    "\n",
    "columns = ['grade', 'issue_d', 'loan_status']\n",
    "\n",
    "for column in columns:\n",
    "    if df_def_36m_prediction[column].dtype == type(object):\n",
    "        le = LabelEncoder()\n",
    "        df_def_36m_prediction[column] = le.fit_transform(df_def_36m_prediction[column])"
   ]
  },
  {
   "cell_type": "code",
   "execution_count": 84,
   "metadata": {},
   "outputs": [
    {
     "name": "stdout",
     "output_type": "stream",
     "text": [
      "<class 'pandas.core.frame.DataFrame'>\n",
      "Int64Index: 75000 entries, 0 to 230655\n",
      "Data columns (total 10 columns):\n",
      "loan_amnt      75000 non-null float64\n",
      "funded_amnt    75000 non-null float64\n",
      "int_rate       75000 non-null float64\n",
      "grade          75000 non-null int64\n",
      "annual_inc     75000 non-null float64\n",
      "issue_d        75000 non-null int64\n",
      "dti            75000 non-null float64\n",
      "revol_bal      75000 non-null float64\n",
      "total_pymnt    75000 non-null float64\n",
      "loan_status    75000 non-null int64\n",
      "dtypes: float64(7), int64(3)\n",
      "memory usage: 6.3 MB\n"
     ]
    }
   ],
   "source": [
    "df_def_36m_prediction.info()"
   ]
  },
  {
   "cell_type": "markdown",
   "metadata": {},
   "source": [
    "We went from **6.9MB to 6.3MB** of memory usage"
   ]
  },
  {
   "cell_type": "markdown",
   "metadata": {},
   "source": [
    "### Train-Dev-Test Split "
   ]
  },
  {
   "cell_type": "code",
   "execution_count": 85,
   "metadata": {},
   "outputs": [
    {
     "name": "stdout",
     "output_type": "stream",
     "text": [
      "(75000,)\n",
      "(75000, 9)\n"
     ]
    }
   ],
   "source": [
    "# Distinguish covariates from response variables\n",
    "all_y_clean = df_def_36m_prediction['loan_status']\n",
    "all_X_clean = df_def_36m_prediction.drop('loan_status', axis = 1)\n",
    "\n",
    "print(all_y_clean.shape)\n",
    "print(all_X_clean.shape)"
   ]
  },
  {
   "cell_type": "code",
   "execution_count": 86,
   "metadata": {
    "collapsed": true
   },
   "outputs": [],
   "source": [
    "from sklearn.model_selection import train_test_split\n",
    "\n",
    "X_temp, X_test, y_temp, y_test = train_test_split(all_X_clean, all_y_clean, test_size=0.15, random_state=7)\n",
    "X_train, X_dev, y_train, y_dev = train_test_split(X_temp, y_temp, test_size=0.15, random_state=7)"
   ]
  },
  {
   "cell_type": "code",
   "execution_count": 87,
   "metadata": {},
   "outputs": [
    {
     "name": "stdout",
     "output_type": "stream",
     "text": [
      "(54187, 9)\n",
      "(9563, 9)\n",
      "(11250, 9)\n",
      "\n",
      " The train-dev-test split is:  0.7224933333333333 0.12750666666666666 0.15\n"
     ]
    }
   ],
   "source": [
    "print(X_train.shape)\n",
    "print(X_dev.shape)\n",
    "print(X_test.shape)\n",
    "\n",
    "proportion_train = int(X_train.shape[0])/int(all_y_clean.shape[0])\n",
    "proportion_dev = int(X_dev.shape[0])/int(all_y_clean.shape[0])\n",
    "proportion_test = int(X_test.shape[0])/int(all_y_clean.shape[0])\n",
    "\n",
    "print(\"\\n The train-dev-test split is: \", proportion_train, proportion_dev, proportion_test)"
   ]
  },
  {
   "cell_type": "markdown",
   "metadata": {},
   "source": [
    "### Logistic regression "
   ]
  },
  {
   "cell_type": "code",
   "execution_count": 89,
   "metadata": {},
   "outputs": [
    {
     "name": "stdout",
     "output_type": "stream",
     "text": [
      "Model slope:     [  5.75114653e-05  -3.09084639e-03   2.73951043e-03  -9.43142930e-04\n",
      "   2.93935573e-05   3.13425435e-03   8.84875898e-03  -9.38557692e-06\n",
      "   2.91157384e-03]\n",
      "Model intercept: [ 0.00082603]\n"
     ]
    }
   ],
   "source": [
    "import sklearn\n",
    "import time\n",
    "\n",
    "from sklearn.linear_model import LogisticRegression\n",
    "\n",
    "classifier = LogisticRegression()\n",
    "\n",
    "start = time.time()\n",
    "\n",
    "classifier.fit(X_train, y_train)\n",
    "\n",
    "end = time.time()\n",
    "\n",
    "print(\"Total time invested in fitting the Logistic Classifier: \", end-start, \"\\n\")\n",
    "\n",
    "print(\"Model slope:    \", classifier.coef_[0])\n",
    "print(\"Model intercept:\", classifier.intercept_)"
   ]
  },
  {
   "cell_type": "code",
   "execution_count": 90,
   "metadata": {},
   "outputs": [
    {
     "data": {
      "text/plain": [
       "Index(['loan_amnt', 'funded_amnt', 'int_rate', 'grade', 'annual_inc',\n",
       "       'issue_d', 'dti', 'revol_bal', 'total_pymnt'],\n",
       "      dtype='object')"
      ]
     },
     "execution_count": 90,
     "metadata": {},
     "output_type": "execute_result"
    }
   ],
   "source": [
    "X_train.columns"
   ]
  },
  {
   "cell_type": "markdown",
   "metadata": {},
   "source": [
    "One of the advantages of Logistic Regression is that it is a statistical model easy to interpret. The trained coefficients can give us information about what is the model taking into account when making predictions. Those can be obtained by calling the property \"coef_[0]\" of the LogicticRegression() instance. \n",
    "\n",
    "From the coefficients, we can infer two things: \n",
    "\n",
    "- The sign of the association between the response variable and a particular covariate\n",
    "- The intensity/importance of that association --> You can compare importance of covariates between each other\n",
    "\n",
    "In this case, the covariate 'funded_amnt' has a negative relationship with Fully Paid loans, suggesting that loans are more rarely paid when the amount of the loan increases. Analogously, this analysis can be repeated with all other covariates.\n",
    "\n",
    "In absolute value, 'funded_amnt', 'int_rate', 'total_pymnt', 'issue_d', 'dti' seem to be the most important features to predict the response variable"
   ]
  },
  {
   "cell_type": "code",
   "execution_count": null,
   "metadata": {},
   "outputs": [],
   "source": [
    "from sklearn.metrics import accuracy_score\n",
    "\n",
    "yfit_dev = classifier.predict(X_dev)\n",
    "yfit_test = classifier.predict(X_test)\n",
    "\n",
    "print(\"The dev set accuracy is: \", accuracy_score(y_dev, yfit_dev))\n",
    "print(\"The test set accuracy is: \", accuracy_score(y_test, yfit_test))"
   ]
  },
  {
   "cell_type": "markdown",
   "metadata": {},
   "source": [
    "The way the performance has been measured is by splitting the cleaned dataset in a train, dev and test set. As the size of the dataset was big enough, no cross-validation has been used to perform this split (could be done quickly with a sklearn function called KFold()). This makes our out-of-sample estimate of the generalization error less biased compared of using the cross-validation technique. \n",
    "\n",
    "The dev set could be used to tune the hyperparameters and also to select the most appropriate ML model for the dataset and task at hand. Due to time constraints, it wasn't possible to play with the usual hyperparameters such as: regularization, norm of the norm-penalty term of the loss function etc.."
   ]
  },
  {
   "cell_type": "code",
   "execution_count": null,
   "metadata": {},
   "outputs": [],
   "source": [
    "# Biased dataset?\n",
    "counts = df_def_36m_prediction['loan_status'].value_counts()\n",
    "\n",
    "# Compute proportion of fully_paid vs. Default in the response variable:\n",
    "proportion_pos_neg_labels = counts[0]/counts[1]\n",
    "print(\"The ratio of positive output labels with respect negative labels in the response variable is: \", \\\n",
    "     proportion_pos_neg_labels)"
   ]
  },
  {
   "cell_type": "markdown",
   "metadata": {},
   "source": [
    "The response variable has lots of positive examples (fully paid loans) and a few negative examples (default loans) --> The response variable is not balanced. This suggests that the accuracy metric is not as good as it seems (although, we can say the logistic classifier did a pretty decent job)\n",
    "\n",
    "In these situations, it is always useful to plot a confusion matrix to see the number of True Positives, False Positives, True Negatives and False Negatives. "
   ]
  },
  {
   "cell_type": "markdown",
   "metadata": {},
   "source": [
    "Other ML algorithms could be used thanks to scikit-learn such as: \n",
    "\n",
    "- Naive Bayes: A generative model for binary classification\n",
    "    (from sklearn.naive_bayes import MultinomialNB)\n",
    "- Support Vector Machines (SVMs); from sklearn.svm import SVC\n",
    "- Decision Trees and Random Forest classifiers: from sklearn.tree import DecisionTreeClassifier\n",
    "\n",
    "Even some unsupervised preprocessing techniques can be used very easily:\n",
    "\n",
    "- PCA or Manifold for dimensionality reduction: from sklearn.decomposition import PCA"
   ]
  },
  {
   "cell_type": "markdown",
   "metadata": {},
   "source": [
    "With more time, a Fully Connected Neural Network (or MLP) could have been implemented with either Keras, Pytorch or Tensorflow Python libraries. However, the state-of-the-art performance for this task would probably come from gradient boosting algorithms (XGboost or LightGBM) as we are dealing with a tabular structured dataset."
   ]
  },
  {
   "cell_type": "code",
   "execution_count": null,
   "metadata": {
    "collapsed": true
   },
   "outputs": [],
   "source": []
  }
 ],
 "metadata": {
  "kernelspec": {
   "display_name": "Python 3",
   "language": "python",
   "name": "python3"
  },
  "language_info": {
   "codemirror_mode": {
    "name": "ipython",
    "version": 3
   },
   "file_extension": ".py",
   "mimetype": "text/x-python",
   "name": "python",
   "nbconvert_exporter": "python",
   "pygments_lexer": "ipython3",
   "version": "3.5.4"
  }
 },
 "nbformat": 4,
 "nbformat_minor": 2
}
